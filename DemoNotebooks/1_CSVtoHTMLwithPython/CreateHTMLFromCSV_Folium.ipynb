{
 "cells": [
  {
   "cell_type": "code",
   "execution_count": 1,
   "metadata": {},
   "outputs": [],
   "source": [
    "# CreateHTMLFromCSV.py\n",
    "\n",
    "# Creates a Google Maps HTML document containing\n",
    "# markers contained in the specified CSV file\n",
    "\n",
    "# Fall 2018\n",
    "# J.Fay for ENV859\n",
    "\n",
    "import sys, os\n",
    "import pandas as pd\n",
    "import folium\n",
    "from folium.plugins import MarkerCluster\n",
    "\n",
    "#Filename to save the output to:\n",
    "outputHTML = 'Violations_folium.html'\n",
    "\n",
    "#Read the data into a Pandas dataFrame\n",
    "df = pd.read_csv('Pennsylvania Oil and Gas Violations.csv')\n",
    "\n",
    "#Remove rows missing lat/long data\n",
    "df.dropna(subset=['latitude','longitude'],axis='rows',how='any',inplace=True)\n",
    "\n",
    "#Get the mean latitude and longitude, to set as the center of the map\n",
    "meanLat = df['latitude'].mean()\n",
    "meanLng = df['longitude'].mean()\n",
    "\n",
    "#Create the folium map object\n",
    "wellMap = folium.Map(location=(meanLat,meanLng),zoom_start=8)\n",
    "\n",
    "#Create a marker cluster object which enables a cleaner display of markers\n",
    "marker_cluster = MarkerCluster()\n",
    "marker_cluster.add_to(wellMap)\n",
    "\n",
    "#Add as Clustered Markers\n",
    "for row in df.iterrows():\n",
    "\n",
    "    #Get the data from the row; it's the 2nd object (1st is the row's index)\n",
    "    data = row[1] \n",
    "    \n",
    "    #Get the row's data that we want\n",
    "    lat = data['latitude']\n",
    "    lon = data['longitude']\n",
    "    name = data['Operator']\n",
    "    \n",
    "    #Create a marker\n",
    "    m = folium.Marker((lat,lon),popup=str(name))\n",
    "    \n",
    "    #Add it to the marker cluster object\n",
    "    m.add_to(marker_cluster)\n",
    "\n",
    "# Save the map\n",
    "wellMap.save(outputHTML)"
   ]
  },
  {
   "cell_type": "code",
   "execution_count": null,
   "metadata": {},
   "outputs": [],
   "source": []
  }
 ],
 "metadata": {
  "kernelspec": {
   "display_name": "Python 3",
   "language": "python",
   "name": "python3"
  },
  "language_info": {
   "codemirror_mode": {
    "name": "ipython",
    "version": 3
   },
   "file_extension": ".py",
   "mimetype": "text/x-python",
   "name": "python",
   "nbconvert_exporter": "python",
   "pygments_lexer": "ipython3",
   "version": "3.6.5"
  }
 },
 "nbformat": 4,
 "nbformat_minor": 2
}
